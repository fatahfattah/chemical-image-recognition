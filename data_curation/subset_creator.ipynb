{
 "cells": [
  {
   "cell_type": "code",
   "execution_count": 1,
   "metadata": {},
   "outputs": [],
   "source": [
    "import os\n",
    "import random\n",
    "random.seed(42)\n",
    "from shutil import move"
   ]
  },
  {
   "cell_type": "code",
   "execution_count": 2,
   "metadata": {},
   "outputs": [],
   "source": [
    "path = ''\n",
    "target_path = ''"
   ]
  },
  {
   "cell_type": "code",
   "execution_count": 12,
   "metadata": {},
   "outputs": [],
   "source": [
    "# Move to subset dir\n",
    "classes = os.listdir(path)\n",
    "n = 7000\n",
    "for c in classes:\n",
    "    if not os.path.isdir(os.path.join(target_path, c)):\n",
    "        os.makedirs(os.path.join(target_path, c))\n",
    "\n",
    "for c in classes:\n",
    "    root = os.path.join(path, c)\n",
    "    for x in random.sample(os.listdir(root), n):\n",
    "        move(os.path.join(root, x), os.path.join(target_path, c))\n",
    "        "
   ]
  },
  {
   "cell_type": "code",
   "execution_count": 11,
   "metadata": {},
   "outputs": [],
   "source": [
    "# Move back to original dir\n",
    "classes = os.listdir(target_path)\n",
    "for c in classes:\n",
    "    root = os.path.join(target_path, c)\n",
    "    for x in os.listdir(root):\n",
    "        move(os.path.join(root, x), os.path.join(path, c))"
   ]
  }
 ],
 "metadata": {
  "kernelspec": {
   "display_name": "Python 3",
   "language": "python",
   "name": "python3"
  },
  "language_info": {
   "codemirror_mode": {
    "name": "ipython",
    "version": 3
   },
   "file_extension": ".py",
   "mimetype": "text/x-python",
   "name": "python",
   "nbconvert_exporter": "python",
   "pygments_lexer": "ipython3",
   "version": "3.8.8"
  }
 },
 "nbformat": 4,
 "nbformat_minor": 5
}